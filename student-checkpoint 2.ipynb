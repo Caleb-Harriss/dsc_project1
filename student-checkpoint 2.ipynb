{
 "cells": [
  {
   "cell_type": "markdown",
   "metadata": {},
   "source": [
    "## Final Project Submission\n",
    "\n",
    "Please fill out:\n",
    "* Student name: Caleb Harris\n",
    "* Student pace: full time\n",
    "* Scheduled project review date/time: 3/11\n",
    "* Instructor name: Parveen Gowtham\n",
    "* Blog post URL: \n"
   ]
  },
  {
   "cell_type": "code",
   "execution_count": 8,
   "metadata": {},
   "outputs": [
    {
     "name": "stdout",
     "output_type": "stream",
     "text": [
      "Requirement already satisfied: numpy in /Users/calebharris/opt/anaconda3/envs/learn-env/lib/python3.8/site-packages (1.19.1)\n",
      "Requirement already satisfied: pandas in /Users/calebharris/opt/anaconda3/envs/learn-env/lib/python3.8/site-packages (1.1.3)\n",
      "Requirement already satisfied: python-dateutil>=2.7.3 in /Users/calebharris/opt/anaconda3/envs/learn-env/lib/python3.8/site-packages (from pandas) (2.8.1)\n",
      "Requirement already satisfied: pytz>=2017.2 in /Users/calebharris/opt/anaconda3/envs/learn-env/lib/python3.8/site-packages (from pandas) (2020.1)\n",
      "Requirement already satisfied: numpy>=1.15.4 in /Users/calebharris/opt/anaconda3/envs/learn-env/lib/python3.8/site-packages (from pandas) (1.19.1)\n",
      "Requirement already satisfied: six>=1.5 in /Users/calebharris/opt/anaconda3/envs/learn-env/lib/python3.8/site-packages (from python-dateutil>=2.7.3->pandas) (1.15.0)\n"
     ]
    }
   ],
   "source": [
    "!pip install numpy\n",
    "!pip install pandas"
   ]
  },
  {
   "cell_type": "code",
   "execution_count": 9,
   "metadata": {},
   "outputs": [
    {
     "ename": "ImportError",
     "evalue": "Unable to import required dependencies:\nnumpy: \n\nIMPORTANT: PLEASE READ THIS FOR ADVICE ON HOW TO SOLVE THIS ISSUE!\n\nImporting the numpy C-extensions failed. This error can happen for\nmany reasons, often due to issues with your setup or how NumPy was\ninstalled.\n\nWe have compiled some common reasons and troubleshooting tips at:\n\n    https://numpy.org/devdocs/user/troubleshooting-importerror.html\n\nPlease note and check the following:\n\n  * The Python version is: Python3.8 from \"/Users/calebharris/opt/anaconda3/envs/learn-env/bin/python\"\n  * The NumPy version is: \"1.19.1\"\n\nand make sure that they are the versions you expect.\nPlease carefully study the documentation linked above for further help.\n\nOriginal error was: dlopen(/Users/calebharris/opt/anaconda3/envs/learn-env/lib/python3.8/site-packages/numpy/core/_multiarray_umath.cpython-38-darwin.so, 0x0002): Library not loaded: @rpath/libopenblas.dylib\n  Referenced from: /Users/calebharris/opt/anaconda3/envs/learn-env/lib/python3.8/site-packages/numpy/core/_multiarray_umath.cpython-38-darwin.so\n  Reason: tried: '/Users/calebharris/opt/anaconda3/envs/learn-env/lib/libopenblas.dylib' (no such file), '/Users/calebharris/opt/anaconda3/envs/learn-env/lib/libopenblas.dylib' (no such file), '/Users/calebharris/opt/anaconda3/envs/learn-env/lib/libopenblas.dylib' (no such file), '/Users/calebharris/opt/anaconda3/envs/learn-env/lib/python3.8/site-packages/numpy/core/../../../../libopenblas.dylib' (no such file), '/Users/calebharris/opt/anaconda3/envs/learn-env/lib/libopenblas.dylib' (no such file), '/Users/calebharris/opt/anaconda3/envs/learn-env/lib/libopenblas.dylib' (no such file), '/Users/calebharris/opt/anaconda3/envs/learn-env/lib/libopenblas.dylib' (no such file), '/Users/calebharris/opt/anaconda3/envs/learn-env/lib/python3.8/site-packages/numpy/core/../../../../libopenblas.dylib' (no such file), '/Users/calebharris/opt/anaconda3/envs/learn-env/lib/libopenblas.dylib' (no such file), '/Users/calebharris/opt/anaconda3/envs/learn-env/lib/libopenblas.dylib' (no such file), '/Users/calebharris/opt/anaconda3/envs/learn-env/bin/../lib/libopenblas.dylib' (no such file), '/Users/calebharris/opt/anaconda3/envs/learn-env/lib/libopenblas.dylib' (no such file), '/Users/calebharris/opt/anaconda3/envs/learn-env/lib/libopenblas.dylib' (no such file), '/Users/calebharris/opt/anaconda3/envs/learn-env/bin/../lib/libopenblas.dylib' (no such file), '/usr/local/lib/libopenblas.dylib' (no such file), '/usr/lib/libopenblas.dylib' (no such file)\n",
     "output_type": "error",
     "traceback": [
      "\u001b[0;31m---------------------------------------------------------------------------\u001b[0m",
      "\u001b[0;31mImportError\u001b[0m                               Traceback (most recent call last)",
      "\u001b[0;32m<ipython-input-9-f4868774b28c>\u001b[0m in \u001b[0;36m<module>\u001b[0;34m\u001b[0m\n\u001b[1;32m      1\u001b[0m \u001b[0;32mimport\u001b[0m \u001b[0mjson\u001b[0m\u001b[0;34m\u001b[0m\u001b[0;34m\u001b[0m\u001b[0m\n\u001b[0;32m----> 2\u001b[0;31m \u001b[0;32mimport\u001b[0m \u001b[0mpandas\u001b[0m \u001b[0;32mas\u001b[0m \u001b[0mpd\u001b[0m\u001b[0;34m\u001b[0m\u001b[0;34m\u001b[0m\u001b[0m\n\u001b[0m\u001b[1;32m      3\u001b[0m \u001b[0;32mimport\u001b[0m \u001b[0mmatplotlib\u001b[0m\u001b[0;34m.\u001b[0m\u001b[0mpyplot\u001b[0m \u001b[0;32mas\u001b[0m \u001b[0mplt\u001b[0m\u001b[0;34m\u001b[0m\u001b[0;34m\u001b[0m\u001b[0m\n\u001b[1;32m      4\u001b[0m \u001b[0;32mimport\u001b[0m \u001b[0mnumpy\u001b[0m \u001b[0;32mas\u001b[0m \u001b[0mnp\u001b[0m\u001b[0;34m\u001b[0m\u001b[0;34m\u001b[0m\u001b[0m\n\u001b[1;32m      5\u001b[0m \u001b[0;32mimport\u001b[0m \u001b[0mscipy\u001b[0m\u001b[0;34m\u001b[0m\u001b[0;34m\u001b[0m\u001b[0m\n",
      "\u001b[0;32m~/opt/anaconda3/envs/learn-env/lib/python3.8/site-packages/pandas/__init__.py\u001b[0m in \u001b[0;36m<module>\u001b[0;34m\u001b[0m\n\u001b[1;32m     14\u001b[0m \u001b[0;34m\u001b[0m\u001b[0m\n\u001b[1;32m     15\u001b[0m \u001b[0;32mif\u001b[0m \u001b[0mmissing_dependencies\u001b[0m\u001b[0;34m:\u001b[0m\u001b[0;34m\u001b[0m\u001b[0;34m\u001b[0m\u001b[0m\n\u001b[0;32m---> 16\u001b[0;31m     raise ImportError(\n\u001b[0m\u001b[1;32m     17\u001b[0m         \u001b[0;34m\"Unable to import required dependencies:\\n\"\u001b[0m \u001b[0;34m+\u001b[0m \u001b[0;34m\"\\n\"\u001b[0m\u001b[0;34m.\u001b[0m\u001b[0mjoin\u001b[0m\u001b[0;34m(\u001b[0m\u001b[0mmissing_dependencies\u001b[0m\u001b[0;34m)\u001b[0m\u001b[0;34m\u001b[0m\u001b[0;34m\u001b[0m\u001b[0m\n\u001b[1;32m     18\u001b[0m     )\n",
      "\u001b[0;31mImportError\u001b[0m: Unable to import required dependencies:\nnumpy: \n\nIMPORTANT: PLEASE READ THIS FOR ADVICE ON HOW TO SOLVE THIS ISSUE!\n\nImporting the numpy C-extensions failed. This error can happen for\nmany reasons, often due to issues with your setup or how NumPy was\ninstalled.\n\nWe have compiled some common reasons and troubleshooting tips at:\n\n    https://numpy.org/devdocs/user/troubleshooting-importerror.html\n\nPlease note and check the following:\n\n  * The Python version is: Python3.8 from \"/Users/calebharris/opt/anaconda3/envs/learn-env/bin/python\"\n  * The NumPy version is: \"1.19.1\"\n\nand make sure that they are the versions you expect.\nPlease carefully study the documentation linked above for further help.\n\nOriginal error was: dlopen(/Users/calebharris/opt/anaconda3/envs/learn-env/lib/python3.8/site-packages/numpy/core/_multiarray_umath.cpython-38-darwin.so, 0x0002): Library not loaded: @rpath/libopenblas.dylib\n  Referenced from: /Users/calebharris/opt/anaconda3/envs/learn-env/lib/python3.8/site-packages/numpy/core/_multiarray_umath.cpython-38-darwin.so\n  Reason: tried: '/Users/calebharris/opt/anaconda3/envs/learn-env/lib/libopenblas.dylib' (no such file), '/Users/calebharris/opt/anaconda3/envs/learn-env/lib/libopenblas.dylib' (no such file), '/Users/calebharris/opt/anaconda3/envs/learn-env/lib/libopenblas.dylib' (no such file), '/Users/calebharris/opt/anaconda3/envs/learn-env/lib/python3.8/site-packages/numpy/core/../../../../libopenblas.dylib' (no such file), '/Users/calebharris/opt/anaconda3/envs/learn-env/lib/libopenblas.dylib' (no such file), '/Users/calebharris/opt/anaconda3/envs/learn-env/lib/libopenblas.dylib' (no such file), '/Users/calebharris/opt/anaconda3/envs/learn-env/lib/libopenblas.dylib' (no such file), '/Users/calebharris/opt/anaconda3/envs/learn-env/lib/python3.8/site-packages/numpy/core/../../../../libopenblas.dylib' (no such file), '/Users/calebharris/opt/anaconda3/envs/learn-env/lib/libopenblas.dylib' (no such file), '/Users/calebharris/opt/anaconda3/envs/learn-env/lib/libopenblas.dylib' (no such file), '/Users/calebharris/opt/anaconda3/envs/learn-env/bin/../lib/libopenblas.dylib' (no such file), '/Users/calebharris/opt/anaconda3/envs/learn-env/lib/libopenblas.dylib' (no such file), '/Users/calebharris/opt/anaconda3/envs/learn-env/lib/libopenblas.dylib' (no such file), '/Users/calebharris/opt/anaconda3/envs/learn-env/bin/../lib/libopenblas.dylib' (no such file), '/usr/local/lib/libopenblas.dylib' (no such file), '/usr/lib/libopenblas.dylib' (no such file)\n"
     ]
    }
   ],
   "source": [
    "import json\n",
    "import pandas as pd\n",
    "import matplotlib.pyplot as plt\n",
    "import numpy as np\n",
    "import scipy \n",
    "import seaborn as sns"
   ]
  },
  {
   "cell_type": "code",
   "execution_count": 7,
   "metadata": {},
   "outputs": [
    {
     "ename": "NameError",
     "evalue": "name 'pd' is not defined",
     "output_type": "error",
     "traceback": [
      "\u001b[0;31m---------------------------------------------------------------------------\u001b[0m",
      "\u001b[0;31mNameError\u001b[0m                                 Traceback (most recent call last)",
      "\u001b[0;32m<ipython-input-7-65b30b49f6cd>\u001b[0m in \u001b[0;36m<module>\u001b[0;34m\u001b[0m\n\u001b[0;32m----> 1\u001b[0;31m \u001b[0mmovie_gross_df\u001b[0m \u001b[0;34m=\u001b[0m \u001b[0mpd\u001b[0m\u001b[0;34m.\u001b[0m\u001b[0mread_csv\u001b[0m\u001b[0;34m(\u001b[0m\u001b[0;34m'data/bom.movie_gross.csv'\u001b[0m\u001b[0;34m)\u001b[0m\u001b[0;34m\u001b[0m\u001b[0;34m\u001b[0m\u001b[0m\n\u001b[0m",
      "\u001b[0;31mNameError\u001b[0m: name 'pd' is not defined"
     ]
    }
   ],
   "source": [
    "movie_gross_df = pd.read_csv('data/bom.movie_gross.csv')"
   ]
  },
  {
   "cell_type": "markdown",
   "metadata": {},
   "source": [
    "# RETURN ON STUDIO INVESTMENT METRIC"
   ]
  },
  {
   "cell_type": "code",
   "execution_count": null,
   "metadata": {},
   "outputs": [],
   "source": [
    "# Load data frame in containing production budget and worldwide gross data.\n",
    "numbers_df = pd.read_csv('data/tn.movie_budgets.csv')\n",
    "numbers_df.head()"
   ]
  },
  {
   "cell_type": "code",
   "execution_count": null,
   "metadata": {},
   "outputs": [],
   "source": [
    "# Examine how many records have a worldwide_gross equal to '$0'\n",
    "\n",
    "numbers_df.loc[movie_budgets['worldwide_gross'] == '$0']"
   ]
  },
  {
   "cell_type": "code",
   "execution_count": null,
   "metadata": {},
   "outputs": [],
   "source": [
    "# Clean numbers_df and change production_budget and worldwide_gross to an int data type\n",
    "numbers_df[['production_budget', 'worldwide_gross'\n",
    "    ]] = numbers_df[['production_budget', 'worldwide_gross'\n",
    "    ]].replace({'\\$' : '', ',' : ''\n",
    "    }, regex = True).astype('int')"
   ]
  },
  {
   "cell_type": "code",
   "execution_count": null,
   "metadata": {},
   "outputs": [],
   "source": [
    "# Drop irrelevant columns\n",
    "# Rename column names to be more relevant\n",
    "\n",
    "numbers_df.drop(['id', 'release_date', 'domestic_gross' ], axis = 1, inplace = True)\n",
    "\n",
    "numbers_df.rename(columns = {'production_buget' : 'Budgets', 'wordwide_gross' : 'TotalGross',\n",
    "'movie' : 'Movie'}, inplace = True)\n"
   ]
  },
  {
   "cell_type": "code",
   "execution_count": null,
   "metadata": {},
   "outputs": [],
   "source": [
    "# Drop all rows containg a 0 value in worldwide gross column\n",
    "\n",
    "numbers_df = numbers_df[numbers_df['worldwide_gross'] != 0]"
   ]
  },
  {
   "cell_type": "code",
   "execution_count": null,
   "metadata": {},
   "outputs": [],
   "source": [
    "# Verify no 0 values remain\n",
    "\n",
    "numbers_df.loc[numbers_df['worldwide_gross'] == 0]"
   ]
  },
  {
   "cell_type": "code",
   "execution_count": null,
   "metadata": {},
   "outputs": [],
   "source": [
    "# Examine movie_gross_df to evaluate which columns of data are relevant to my business questions.\n",
    "movie_gross_df"
   ]
  },
  {
   "cell_type": "code",
   "execution_count": null,
   "metadata": {},
   "outputs": [],
   "source": [
    "# Dropping unnecessary columns\n",
    "movie_gross_df.drop(['domestic_gross', 'foreign_gross', 'year'], axis = 1, inplace = True)"
   ]
  },
  {
   "cell_type": "code",
   "execution_count": null,
   "metadata": {},
   "outputs": [],
   "source": [
    "# Rename columns to make common column to merge on\n",
    "movie_gross_df.rename(columns = {'title' : 'Movie'}, inplace = True)\n",
    "movie_gross_df"
   ]
  },
  {
   "cell_type": "code",
   "execution_count": null,
   "metadata": {},
   "outputs": [],
   "source": [
    "# Join numbers_df and movie_gross_df on Movie column.\n",
    "\n",
    "metric_by_studio_df = pd.merge(numbers_df, movie_gross_df, on = 'Movie', how = 'inner')"
   ]
  },
  {
   "cell_type": "code",
   "execution_count": null,
   "metadata": {},
   "outputs": [],
   "source": [
    "# Examine newly created data frame\n",
    "metric_by_studio_df.head(3)"
   ]
  },
  {
   "cell_type": "code",
   "execution_count": null,
   "metadata": {},
   "outputs": [],
   "source": [
    "metric_by_studio_df.tail(3)"
   ]
  },
  {
   "cell_type": "code",
   "execution_count": null,
   "metadata": {},
   "outputs": [],
   "source": [
    "# Examine the number of movies each studio has made\n",
    "metric_by_studio_df['studio'].value_counts().sort_values(ascending = False)"
   ]
  },
  {
   "cell_type": "code",
   "execution_count": null,
   "metadata": {},
   "outputs": [],
   "source": []
  },
  {
   "cell_type": "code",
   "execution_count": null,
   "metadata": {},
   "outputs": [],
   "source": [
    "# Update the roi_by_studio_df so that the ['worldwide_gross'] column is descending\n",
    "\n",
    "roi_by_studio_df = roi_by_studio_df.sort_values(['worldwide_gross'], ascending = False)\n",
    "roi_by_studio_df"
   ]
  },
  {
   "cell_type": "code",
   "execution_count": null,
   "metadata": {},
   "outputs": [],
   "source": [
    "roi_by_studio_df.reset_index()\n"
   ]
  },
  {
   "cell_type": "code",
   "execution_count": null,
   "metadata": {},
   "outputs": [],
   "source": [
    "# Add a column 'movies_by_studio' that contains a count of the number of movies produced by a specific studio\n",
    "\n",
    "roi_by_studio_df['movies_by_studio'] = metric_by_studio_df['studio'].value_counts().sort_values(ascending = False)\n",
    "roi_by_studio_df"
   ]
  },
  {
   "cell_type": "code",
   "execution_count": null,
   "metadata": {},
   "outputs": [],
   "source": []
  },
  {
   "cell_type": "code",
   "execution_count": null,
   "metadata": {},
   "outputs": [],
   "source": [
    "# Create new column labeled ['roi_by_studio'] which is a metric that measures a studio's track record on money\n",
    "# spent on budget vs money grossed\n",
    "\n",
    "ww_gross = roi_by_studio_df['worldwide_gross']\n",
    "prod_budg = roi_by_studio_df['production_budget']\n",
    "\n",
    "roi_by_studio_df['roi_by_studio'] = ww_gross / prod_budg "
   ]
  },
  {
   "cell_type": "code",
   "execution_count": null,
   "metadata": {},
   "outputs": [],
   "source": [
    "roi_by_studio_df = roi_by_studio_df.sort_values(['roi_by_studio'], ascending = False)\n",
    "roi_by_studio_df.reset_index(inplace = True)"
   ]
  },
  {
   "cell_type": "code",
   "execution_count": null,
   "metadata": {},
   "outputs": [],
   "source": [
    "# Create a new data frame for studios which have produced 5 films or fewer. \n",
    "# This helps group roi_by_studio into a new group with similar film history. I will not use this dataframe in my presentation.\n",
    "\n",
    "roi_by_studio_one_five_movie_df = roi_by_studio_df[roi_by_studio_df['movies_by_studio'] <= 5]\n",
    "roi_by_studio_one_five_movie_df"
   ]
  },
  {
   "cell_type": "code",
   "execution_count": null,
   "metadata": {},
   "outputs": [],
   "source": [
    "# Change index so that 'studio' is column\n",
    "roi_by_studio_one_five_movie_df.reset_index(inplace = True)"
   ]
  },
  {
   "cell_type": "code",
   "execution_count": null,
   "metadata": {},
   "outputs": [],
   "source": [
    "# New group of studios with high count of movies produced, studios found in this data frame have produced more than\n",
    "# five movies. I will use this dataframe in my presentation.\n",
    "roi_by_studio_high_count_movie_df = roi_by_studio_df[roi_by_studio_df['movies_by_studio'] > 5]\n",
    "roi_by_studio_high_count_movie_df.reset_index(inplace = True) \n",
    "\n"
   ]
  },
  {
   "cell_type": "code",
   "execution_count": null,
   "metadata": {},
   "outputs": [],
   "source": [
    "roi_by_studio_high_count_movie_df\n"
   ]
  },
  {
   "cell_type": "code",
   "execution_count": null,
   "metadata": {},
   "outputs": [],
   "source": [
    "# A preview of the top ten studios ROI with more than 5 movies produced.\n",
    "\n",
    "roi_by_studio_high_count_movie_df.iloc[:10]"
   ]
  },
  {
   "cell_type": "code",
   "execution_count": null,
   "metadata": {},
   "outputs": [],
   "source": [
    "# Graph showing top ten ROI for studios with more than 5 movies produced.\n",
    "# Five movies was chosen as the cutoff because it contained 32 studios, almost one third of the 99 studios.\n",
    "\n",
    "x = roi_by_studio_high_count_movie_df.iloc[:10]['studio']\n",
    "y = roi_by_studio_high_count_movie_df['roi_by_studio']\n",
    "sns.set()\n",
    "ax = sns.barplot(x, y, data = roi_by_studio_high_count_movie_df)\n",
    "plt.title('Return on Investment by Studio (greater than five films)')\n",
    "plt.xlabel('Studio')\n",
    "plt.ylabel('Studio Return on Investment')\n",
    "plt.yticks(np.arange(0.00, 4.6, 0.25));"
   ]
  },
  {
   "cell_type": "code",
   "execution_count": null,
   "metadata": {},
   "outputs": [],
   "source": [
    "# Graph showing the movie count by studio for the top ten best ROI studios with more than five movies produced.\n",
    "\n",
    "x = roi_by_studio_high_count_movie_df.iloc[:10]['studio']\n",
    "y = roi_by_studio_high_count_movie_df['movies_by_studio']\n",
    "sns.set()\n",
    "ax = sns.barplot(x, y, data = roi_by_studio_high_count_movie_df)\n",
    "plt.title('Movie Count per Studio (greater than five films)')\n",
    "plt.xlabel('Studio')\n",
    "plt.ylabel('Movies Produced by Studio')\n",
    "plt.yticks(np.arange(0, 121, 10));"
   ]
  },
  {
   "cell_type": "code",
   "execution_count": null,
   "metadata": {},
   "outputs": [],
   "source": [
    "x = roi_by_studio_one_five_movie_df.iloc[:10]['studio']\n",
    "y = roi_by_studio_one_five_movie_df['roi_by_studio']\n",
    "sns.set()\n",
    "ax = sns.barplot(x, y, data = roi_by_studio_one_five_movie_df)\n",
    "plt.title('Return on Investment by Studio (less than five films)')\n",
    "plt.xlabel('Studio')\n",
    "plt.ylabel('Studio Return on Investment')\n",
    "plt.yticks(np.arange(0.00, 15.1, 1));"
   ]
  },
  {
   "cell_type": "code",
   "execution_count": null,
   "metadata": {},
   "outputs": [],
   "source": [
    "# Graph of the movie count for the ten highest ROI studios with five or less total movies produced. \n",
    "\n",
    "x = roi_by_studio_one_five_movie_df.iloc[:10]['studio']\n",
    "y = roi_by_studio_one_five_movie_df['movies_by_studio']\n",
    "sns.set()\n",
    "ax = sns.barplot(x, y, data = roi_by_studio_high_count_movie_df)\n",
    "plt.title('Movie Count per Studio (less than 5 films)')\n",
    "plt.xlabel('Studio')\n",
    "plt.ylabel('Movies Produced by Studio')\n",
    "plt.yticks(np.arange(0, 121, 10));"
   ]
  },
  {
   "cell_type": "markdown",
   "metadata": {},
   "source": [
    "# Helpful Graphs and Calculations for presentation"
   ]
  },
  {
   "cell_type": "code",
   "execution_count": null,
   "metadata": {},
   "outputs": [],
   "source": [
    "# Scatter plot of worldwide gross vs. production budge. Showing money matters.\n",
    "\n",
    "x = metric_by_studio_df['worldwide_gross']\n",
    "y = metric_by_studio_df['production_budget']\n",
    "sns.set()\n",
    "ax = sns.regplot(x, y, data = metric_by_studio_df, ci = None)\n",
    "plt.title('Worldwide Gross vs Production Budget')\n",
    "plt.xlabel('Worldwide Gross')\n",
    "plt.ylabel('Production Budget')\n",
    "plt.yticks(np.arange(0, 500000000, 100000000));"
   ]
  },
  {
   "cell_type": "code",
   "execution_count": null,
   "metadata": {},
   "outputs": [],
   "source": [
    "# Fox studio worldwide gross vs. production scatter plot.\n",
    "\n",
    "x = metric_by_studio_df.loc[metric_by_studio_df['studio'] == 'Fox']['production_budget']\n",
    "y = metric_by_studio_df.loc[metric_by_studio_df['studio'] == 'Fox']['worldwide_gross']\n",
    "sns.set()\n",
    "ax = sns.regplot(x, y, data = metric_by_studio_df, ci = 0)\n",
    "plt.title('Fox Studio Gross vs Budget')\n",
    "plt.xlabel('Worldwide Gross')\n",
    "plt.ylabel('Production Budget')\n"
   ]
  },
  {
   "cell_type": "code",
   "execution_count": null,
   "metadata": {},
   "outputs": [],
   "source": [
    "# Universal studio worldwide gross vs production budget scatterplot\n",
    "x = metric_by_studio_df.loc[metric_by_studio_df['studio'] == 'Uni.']['production_budget']\n",
    "y = metric_by_studio_df.loc[metric_by_studio_df['studio'] == 'Uni.']['worldwide_gross']\n",
    "sns.set()\n",
    "ax = sns.regplot(x, y, data = metric_by_studio_df, ci = 0)\n",
    "plt.title('Universal Studio Gross vs Budget')\n",
    "plt.xlabel('Worldwide Gross')\n",
    "plt.ylabel('Production Budget')"
   ]
  },
  {
   "cell_type": "markdown",
   "metadata": {},
   "source": [
    "## Studio Production Budget Estimate Calculations"
   ]
  },
  {
   "cell_type": "code",
   "execution_count": null,
   "metadata": {},
   "outputs": [],
   "source": [
    "fox_movie_net_budget = metric_by_studio_df.loc[metric_by_studio_df['studio'] == 'Fox']['production_budget'].sum()\n",
    "fox_studio_movie_count = metric_by_studio_df.loc[metric_by_studio_df['studio'] == 'Fox']['Movie'].count()\n",
    "fox_movie_net_budget / fox_studio_movie_count"
   ]
  },
  {
   "cell_type": "code",
   "execution_count": null,
   "metadata": {},
   "outputs": [],
   "source": [
    "uni_net_budget = metric_by_studio_df.loc[metric_by_studio_df['studio'] == 'Uni.']['production_budget'].sum()\n",
    "uni_studio_movie_count = metric_by_studio_df.loc[metric_by_studio_df['studio'] == 'Uni.']['Movie'].count()\n",
    "uni_net_budget / uni_studio_movie_count"
   ]
  },
  {
   "cell_type": "code",
   "execution_count": null,
   "metadata": {},
   "outputs": [],
   "source": []
  }
 ],
 "metadata": {
  "kernelspec": {
   "display_name": "Python 3",
   "language": "python",
   "name": "python3"
  },
  "language_info": {
   "codemirror_mode": {
    "name": "ipython",
    "version": 3
   },
   "file_extension": ".py",
   "mimetype": "text/x-python",
   "name": "python",
   "nbconvert_exporter": "python",
   "pygments_lexer": "ipython3",
   "version": "3.8.5"
  }
 },
 "nbformat": 4,
 "nbformat_minor": 2
}
